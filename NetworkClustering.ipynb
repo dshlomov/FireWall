{
 "cells": [
  {
   "cell_type": "markdown",
   "id": "63302dda-9ea5-4e79-b6c0-3c241aa0bb00",
   "metadata": {},
   "source": [
    "# Imports"
   ]
  },
  {
   "cell_type": "code",
   "execution_count": 36,
   "id": "9a901e29-8811-4892-987f-dcd39ced2c29",
   "metadata": {},
   "outputs": [],
   "source": [
    "import numpy as np\n",
    "import pandas as pd\n",
    "import matplotlib.pyplot as plt\n",
    "from tqdm import tqdm_notebook as tqdm\n",
    "import os\n",
    "import seaborn as sns\n",
    "from glob import glob\n",
    "from collections import OrderedDict\n",
    "import ipaddress\n",
    "from sklearn.cluster import KMeans\n",
    "from sklearn.decomposition import PCA\n"
   ]
  },
  {
   "cell_type": "markdown",
   "id": "a5abafdb-4b45-4a5c-b684-8c626903d996",
   "metadata": {},
   "source": [
    "##Generate Data Set"
   ]
  },
  {
   "cell_type": "code",
   "execution_count": 27,
   "id": "b55499cc-316c-407c-b6f0-3b84cb3837bb",
   "metadata": {},
   "outputs": [],
   "source": [
    "def random_private_ip():\n",
    "    first_octet = np.random.choice([10, 172, 192])\n",
    "    if first_octet == 10:\n",
    "        return f\"10.{np.random.randint(0, 256)}.{np.random.randint(0, 256)}.{np.random.randint(0, 256)}\"\n",
    "    elif first_octet == 172:\n",
    "        return f\"172.{np.random.randint(16, 32)}.{np.random.randint(0, 256)}.{np.random.randint(0, 256)}\"\n",
    "    elif first_octet == 192:\n",
    "        return f\"192.168.{np.random.randint(0, 256)}.{np.random.randint(0, 256)}\"\n",
    "\n",
    "def random_public_ip():\n",
    "    while True:\n",
    "        ip = f\"{np.random.randint(1, 256)}.{np.random.randint(0, 256)}.{np.random.randint(0, 256)}.{np.random.randint(0, 256)}\"\n",
    "        first_octet = int(ip.split('.')[0])\n",
    "        if first_octet not in [10, 172, 192]:  # Ensure it's not in private range\n",
    "            return ip\n",
    "\n",
    "def random_port():\n",
    "    return np.random.randint(1, 65536)\n",
    "\n",
    "def random_protocol():\n",
    "    return np.random.choice(['TCP', 'UDP'])\n",
    "    \n",
    "def ip_to_numeric(ip):\n",
    "    return [int(octet) for octet in ip.split('.')]"
   ]
  },
  {
   "cell_type": "code",
   "execution_count": 17,
   "id": "deebf5d3-f845-45ff-86b2-1b63beb0db5a",
   "metadata": {},
   "outputs": [
    {
     "name": "stdout",
     "output_type": "stream",
     "text": [
      "                 srcIp  srcPort protocol            dstIP  dstPort\n",
      "0        10.165.44.243    26321      UDP     48.29.153.17    54333\n",
      "1         172.28.167.9    31288      UDP     217.91.33.63    50397\n",
      "2         172.21.36.39    45169      TCP    192.168.3.117    57479\n",
      "3       10.149.104.117    34824      TCP  192.168.125.142    40273\n",
      "4       10.161.228.139     5517      TCP    148.23.101.84    18448\n",
      "...                ...      ...      ...              ...      ...\n",
      "999995  172.31.197.243     4066      TCP    172.28.39.120     5999\n",
      "999996  192.168.169.48    22796      TCP    196.13.144.35    38740\n",
      "999997    172.22.39.47    39128      TCP  192.168.120.100    44553\n",
      "999998    172.21.69.36    55153      TCP  201.128.144.150    62765\n",
      "999999  192.168.98.250    18792      TCP     77.71.244.86    18415\n",
      "\n",
      "[1000000 rows x 5 columns]\n"
     ]
    }
   ],
   "source": [
    "# Number of connections\n",
    "num_connections = 1000000\n",
    "private_dst_ratio = 0.20\n",
    "private_dst_count = int(num_connections * private_dst_ratio)\n",
    "public_dst_count = num_connections - private_dst_count\n",
    "\n",
    "# Generate srcIp as always private\n",
    "src_ips = [random_private_ip() for _ in range(num_connections)]\n",
    "\n",
    "dst_ips = ([random_private_ip() for _ in range(private_dst_count)] + \n",
    "           [random_public_ip() for _ in range(public_dst_count)])\n",
    "np.random.shuffle(dst_ips)  # Shuffle to mix private and public IPs\n",
    "\n",
    "src_ports = [random_port() for _ in range(num_connections)]\n",
    "dst_ports = [random_port() for _ in range(num_connections)]\n",
    "protocols = [random_protocol() for _ in range(num_connections)]\n",
    "\n",
    "# Create the DataFrame\n",
    "data = {\n",
    "    'srcIp': src_ips,\n",
    "    'srcPort': src_ports,\n",
    "    'protocol': protocols,\n",
    "    'dstIP': dst_ips,\n",
    "    'dstPort': dst_ports,\n",
    "}\n",
    "\n",
    "df = pd.DataFrame(data)\n",
    "\n",
    "# Display the first few rows of the DataFrame\n",
    "df.head()\n",
    "print (df)\n"
   ]
  },
  {
   "cell_type": "code",
   "execution_count": 23,
   "id": "f7c7b8e9-3a79-4063-8fab-1d11bbf9ba15",
   "metadata": {},
   "outputs": [
    {
     "name": "stdout",
     "output_type": "stream",
     "text": [
      "srcIp\n",
      "192.168.113.16     19\n",
      "192.168.138.140    17\n",
      "192.168.235.108    16\n",
      "192.168.239.160    16\n",
      "192.168.106.248    16\n",
      "                   ..\n",
      "192.168.121.67      6\n",
      "192.168.100.120     6\n",
      "192.168.84.71       6\n",
      "192.168.248.244     6\n",
      "192.168.34.100      6\n",
      "Name: count, Length: 26297, dtype: int64\n"
     ]
    },
    {
     "data": {
      "text/plain": [
       "dstIP\n",
       "192.168.64.230     8\n",
       "192.168.214.67     7\n",
       "192.168.213.42     6\n",
       "192.168.63.85      6\n",
       "192.168.171.37     6\n",
       "192.168.91.131     6\n",
       "192.168.122.167    6\n",
       "192.168.119.167    6\n",
       "192.168.190.172    6\n",
       "192.168.185.195    6\n",
       "192.168.170.19     6\n",
       "192.168.239.49     6\n",
       "192.168.12.151     6\n",
       "192.168.121.39     6\n",
       "192.168.50.179     6\n",
       "192.168.20.170     6\n",
       "192.168.7.48       6\n",
       "192.168.145.231    6\n",
       "192.168.140.87     6\n",
       "192.168.119.6      6\n",
       "192.168.52.34      6\n",
       "192.168.28.206     6\n",
       "192.168.84.38      6\n",
       "192.168.149.75     6\n",
       "192.168.36.84      6\n",
       "192.168.39.66      6\n",
       "192.168.155.221    6\n",
       "192.168.212.11     6\n",
       "192.168.216.115    6\n",
       "192.168.20.109     6\n",
       "192.168.221.8      6\n",
       "192.168.53.186     6\n",
       "192.168.116.254    6\n",
       "192.168.50.253     6\n",
       "192.168.236.251    6\n",
       "192.168.32.184     6\n",
       "192.168.180.115    6\n",
       "192.168.40.128     6\n",
       "192.168.99.151     6\n",
       "192.168.245.119    6\n",
       "192.168.178.77     6\n",
       "192.168.8.129      6\n",
       "192.168.75.36      6\n",
       "Name: count, dtype: int64"
      ]
     },
     "execution_count": 23,
     "metadata": {},
     "output_type": "execute_result"
    }
   ],
   "source": [
    "#verify that there are dulications \n",
    "src_ip_counts = df['srcIp'].value_counts()\n",
    "dst_ip_counts = df['dstIP'].value_counts()\n",
    "duplicate_src_ips = src_ip_counts[src_ip_counts > 5]\n",
    "duplicate_dst_ips = dst_ip_counts[dst_ip_counts > 5]\n",
    "\n",
    "print (duplicate_src_ips)\n",
    "duplicate_dst_ips\n",
    "\n"
   ]
  },
  {
   "cell_type": "code",
   "execution_count": 31,
   "id": "d2b15816-d0d8-4a2e-8b6d-a72f0ef6dae2",
   "metadata": {},
   "outputs": [
    {
     "data": {
      "text/plain": [
       "srcIp       object\n",
       "srcPort      int64\n",
       "protocol    object\n",
       "dstIP       object\n",
       "dstPort      int64\n",
       "dtype: object"
      ]
     },
     "execution_count": 31,
     "metadata": {},
     "output_type": "execute_result"
    }
   ],
   "source": [
    "# Convert srcIp to numerical format\n",
    "src_ip_numerical = df['srcIp'].apply(ip_to_numeric)\n",
    "src_ip_numerical = np.array(src_ip_numerical.tolist())\n",
    "#df.dtypes"
   ]
  },
  {
   "cell_type": "code",
   "execution_count": 32,
   "id": "2debac14-9693-44e2-a1db-0bc5a6ecccd7",
   "metadata": {},
   "outputs": [
    {
     "data": {
      "text/html": [
       "<div>\n",
       "<style scoped>\n",
       "    .dataframe tbody tr th:only-of-type {\n",
       "        vertical-align: middle;\n",
       "    }\n",
       "\n",
       "    .dataframe tbody tr th {\n",
       "        vertical-align: top;\n",
       "    }\n",
       "\n",
       "    .dataframe thead th {\n",
       "        text-align: right;\n",
       "    }\n",
       "</style>\n",
       "<table border=\"1\" class=\"dataframe\">\n",
       "  <thead>\n",
       "    <tr style=\"text-align: right;\">\n",
       "      <th></th>\n",
       "      <th>srcIp</th>\n",
       "      <th>srcPort</th>\n",
       "      <th>protocol</th>\n",
       "      <th>dstIP</th>\n",
       "      <th>dstPort</th>\n",
       "    </tr>\n",
       "  </thead>\n",
       "  <tbody>\n",
       "    <tr>\n",
       "      <th>0</th>\n",
       "      <td>10.165.44.243</td>\n",
       "      <td>26321</td>\n",
       "      <td>UDP</td>\n",
       "      <td>48.29.153.17</td>\n",
       "      <td>54333</td>\n",
       "    </tr>\n",
       "    <tr>\n",
       "      <th>1</th>\n",
       "      <td>172.28.167.9</td>\n",
       "      <td>31288</td>\n",
       "      <td>UDP</td>\n",
       "      <td>217.91.33.63</td>\n",
       "      <td>50397</td>\n",
       "    </tr>\n",
       "    <tr>\n",
       "      <th>2</th>\n",
       "      <td>172.21.36.39</td>\n",
       "      <td>45169</td>\n",
       "      <td>TCP</td>\n",
       "      <td>192.168.3.117</td>\n",
       "      <td>57479</td>\n",
       "    </tr>\n",
       "    <tr>\n",
       "      <th>3</th>\n",
       "      <td>10.149.104.117</td>\n",
       "      <td>34824</td>\n",
       "      <td>TCP</td>\n",
       "      <td>192.168.125.142</td>\n",
       "      <td>40273</td>\n",
       "    </tr>\n",
       "    <tr>\n",
       "      <th>4</th>\n",
       "      <td>10.161.228.139</td>\n",
       "      <td>5517</td>\n",
       "      <td>TCP</td>\n",
       "      <td>148.23.101.84</td>\n",
       "      <td>18448</td>\n",
       "    </tr>\n",
       "    <tr>\n",
       "      <th>...</th>\n",
       "      <td>...</td>\n",
       "      <td>...</td>\n",
       "      <td>...</td>\n",
       "      <td>...</td>\n",
       "      <td>...</td>\n",
       "    </tr>\n",
       "    <tr>\n",
       "      <th>999995</th>\n",
       "      <td>172.31.197.243</td>\n",
       "      <td>4066</td>\n",
       "      <td>TCP</td>\n",
       "      <td>172.28.39.120</td>\n",
       "      <td>5999</td>\n",
       "    </tr>\n",
       "    <tr>\n",
       "      <th>999996</th>\n",
       "      <td>192.168.169.48</td>\n",
       "      <td>22796</td>\n",
       "      <td>TCP</td>\n",
       "      <td>196.13.144.35</td>\n",
       "      <td>38740</td>\n",
       "    </tr>\n",
       "    <tr>\n",
       "      <th>999997</th>\n",
       "      <td>172.22.39.47</td>\n",
       "      <td>39128</td>\n",
       "      <td>TCP</td>\n",
       "      <td>192.168.120.100</td>\n",
       "      <td>44553</td>\n",
       "    </tr>\n",
       "    <tr>\n",
       "      <th>999998</th>\n",
       "      <td>172.21.69.36</td>\n",
       "      <td>55153</td>\n",
       "      <td>TCP</td>\n",
       "      <td>201.128.144.150</td>\n",
       "      <td>62765</td>\n",
       "    </tr>\n",
       "    <tr>\n",
       "      <th>999999</th>\n",
       "      <td>192.168.98.250</td>\n",
       "      <td>18792</td>\n",
       "      <td>TCP</td>\n",
       "      <td>77.71.244.86</td>\n",
       "      <td>18415</td>\n",
       "    </tr>\n",
       "  </tbody>\n",
       "</table>\n",
       "<p>1000000 rows × 5 columns</p>\n",
       "</div>"
      ],
      "text/plain": [
       "                 srcIp  srcPort protocol            dstIP  dstPort\n",
       "0        10.165.44.243    26321      UDP     48.29.153.17    54333\n",
       "1         172.28.167.9    31288      UDP     217.91.33.63    50397\n",
       "2         172.21.36.39    45169      TCP    192.168.3.117    57479\n",
       "3       10.149.104.117    34824      TCP  192.168.125.142    40273\n",
       "4       10.161.228.139     5517      TCP    148.23.101.84    18448\n",
       "...                ...      ...      ...              ...      ...\n",
       "999995  172.31.197.243     4066      TCP    172.28.39.120     5999\n",
       "999996  192.168.169.48    22796      TCP    196.13.144.35    38740\n",
       "999997    172.22.39.47    39128      TCP  192.168.120.100    44553\n",
       "999998    172.21.69.36    55153      TCP  201.128.144.150    62765\n",
       "999999  192.168.98.250    18792      TCP     77.71.244.86    18415\n",
       "\n",
       "[1000000 rows x 5 columns]"
      ]
     },
     "execution_count": 32,
     "metadata": {},
     "output_type": "execute_result"
    }
   ],
   "source": [
    "df"
   ]
  },
  {
   "cell_type": "code",
   "execution_count": 34,
   "id": "a46af44e-d965-478e-9c84-634e3015de58",
   "metadata": {},
   "outputs": [
    {
     "name": "stderr",
     "output_type": "stream",
     "text": [
      "d:\\anaconda3\\Lib\\site-packages\\sklearn\\cluster\\_kmeans.py:870: FutureWarning: The default value of `n_init` will change from 10 to 'auto' in 1.4. Set the value of `n_init` explicitly to suppress the warning\n",
      "  warnings.warn(\n"
     ]
    },
    {
     "data": {
      "text/html": [
       "<div>\n",
       "<style scoped>\n",
       "    .dataframe tbody tr th:only-of-type {\n",
       "        vertical-align: middle;\n",
       "    }\n",
       "\n",
       "    .dataframe tbody tr th {\n",
       "        vertical-align: top;\n",
       "    }\n",
       "\n",
       "    .dataframe thead th {\n",
       "        text-align: right;\n",
       "    }\n",
       "</style>\n",
       "<table border=\"1\" class=\"dataframe\">\n",
       "  <thead>\n",
       "    <tr style=\"text-align: right;\">\n",
       "      <th></th>\n",
       "      <th>srcIp</th>\n",
       "      <th>srcPort</th>\n",
       "      <th>protocol</th>\n",
       "      <th>dstIP</th>\n",
       "      <th>dstPort</th>\n",
       "      <th>srcIp_cluster</th>\n",
       "    </tr>\n",
       "  </thead>\n",
       "  <tbody>\n",
       "    <tr>\n",
       "      <th>0</th>\n",
       "      <td>10.165.44.243</td>\n",
       "      <td>26321</td>\n",
       "      <td>UDP</td>\n",
       "      <td>48.29.153.17</td>\n",
       "      <td>54333</td>\n",
       "      <td>2</td>\n",
       "    </tr>\n",
       "    <tr>\n",
       "      <th>1</th>\n",
       "      <td>172.28.167.9</td>\n",
       "      <td>31288</td>\n",
       "      <td>UDP</td>\n",
       "      <td>217.91.33.63</td>\n",
       "      <td>50397</td>\n",
       "      <td>3</td>\n",
       "    </tr>\n",
       "    <tr>\n",
       "      <th>2</th>\n",
       "      <td>172.21.36.39</td>\n",
       "      <td>45169</td>\n",
       "      <td>TCP</td>\n",
       "      <td>192.168.3.117</td>\n",
       "      <td>57479</td>\n",
       "      <td>0</td>\n",
       "    </tr>\n",
       "    <tr>\n",
       "      <th>3</th>\n",
       "      <td>10.149.104.117</td>\n",
       "      <td>34824</td>\n",
       "      <td>TCP</td>\n",
       "      <td>192.168.125.142</td>\n",
       "      <td>40273</td>\n",
       "      <td>2</td>\n",
       "    </tr>\n",
       "    <tr>\n",
       "      <th>4</th>\n",
       "      <td>10.161.228.139</td>\n",
       "      <td>5517</td>\n",
       "      <td>TCP</td>\n",
       "      <td>148.23.101.84</td>\n",
       "      <td>18448</td>\n",
       "      <td>2</td>\n",
       "    </tr>\n",
       "  </tbody>\n",
       "</table>\n",
       "</div>"
      ],
      "text/plain": [
       "            srcIp  srcPort protocol            dstIP  dstPort  srcIp_cluster\n",
       "0   10.165.44.243    26321      UDP     48.29.153.17    54333              2\n",
       "1    172.28.167.9    31288      UDP     217.91.33.63    50397              3\n",
       "2    172.21.36.39    45169      TCP    192.168.3.117    57479              0\n",
       "3  10.149.104.117    34824      TCP  192.168.125.142    40273              2\n",
       "4  10.161.228.139     5517      TCP    148.23.101.84    18448              2"
      ]
     },
     "execution_count": 34,
     "metadata": {},
     "output_type": "execute_result"
    }
   ],
   "source": [
    "num_clusters = 5\n",
    "kmeans = KMeans(n_clusters=num_clusters, random_state=0).fit(src_ip_numerical)\n",
    "df['srcIp_cluster'] = kmeans.labels_\n",
    "df.head()\n",
    "\n"
   ]
  },
  {
   "cell_type": "code",
   "execution_count": 52,
   "id": "6c924773-3df9-4ad3-b9fe-cc2ce42790da",
   "metadata": {},
   "outputs": [
    {
     "data": {
      "text/plain": [
       "6          192.168.169.40\n",
       "7         192.168.121.130\n",
       "12         192.168.37.204\n",
       "16        192.168.233.183\n",
       "21        192.168.147.134\n",
       "               ...       \n",
       "999982    192.168.203.160\n",
       "999989      192.168.92.73\n",
       "999992    192.168.145.172\n",
       "999996     192.168.169.48\n",
       "999999     192.168.98.250\n",
       "Name: srcIp, Length: 333557, dtype: object"
      ]
     },
     "execution_count": 52,
     "metadata": {},
     "output_type": "execute_result"
    }
   ],
   "source": [
    "cluster_4_ips = df[df['srcIp_cluster'] == 1]['srcIp']\n",
    "cluster_4_ips"
   ]
  },
  {
   "cell_type": "code",
   "execution_count": 48,
   "id": "f693a92f-ec83-4307-b1fd-2905db311a1d",
   "metadata": {},
   "outputs": [
    {
     "data": {
      "text/plain": [
       "<pandas.core.groupby.generic.DataFrameGroupBy object at 0x000002137B484350>"
      ]
     },
     "execution_count": 48,
     "metadata": {},
     "output_type": "execute_result"
    }
   ],
   "source": [
    "df_g = df.groupby('srcIp_cluster')\n",
    "df_g\n",
    "#df"
   ]
  },
  {
   "cell_type": "code",
   "execution_count": 38,
   "id": "d9ddd798-bb43-4106-a622-707688f60911",
   "metadata": {},
   "outputs": [
    {
     "name": "stderr",
     "output_type": "stream",
     "text": [
      "d:\\anaconda3\\Lib\\site-packages\\IPython\\core\\pylabtools.py:152: UserWarning: Creating legend with loc=\"best\" can be slow with large amounts of data.\n",
      "  fig.canvas.print_figure(bytes_io, **kw)\n"
     ]
    },
    {
     "data": {
      "image/png": "[encoded data removed]",
      "text/plain": [
       "<Figure size 1200x800 with 1 Axes>"
      ]
     },
     "metadata": {},
     "output_type": "display_data"
    }
   ],
   "source": [
    "pca = PCA(n_components=2)\n",
    "ip_pca = pca.fit_transform(src_ip_numerical)\n",
    "pca_df = pd.DataFrame(ip_pca, columns=['PCA1', 'PCA2'])\n",
    "pca_df['Cluster'] = kmeans.labels_\n",
    "plt.figure(figsize=(12, 8))\n",
    "for cluster in range(num_clusters):\n",
    "    cluster_data = pca_df[pca_df['Cluster'] == cluster]\n",
    "    plt.scatter(cluster_data['PCA1'], cluster_data['PCA2'], label=f'Cluster {cluster}', alpha=0.8)\n",
    "\n",
    "plt.title('Clusters of srcIp addresses')\n",
    "plt.xlabel('PCA1')\n",
    "plt.ylabel('PCA2')\n",
    "plt.legend()\n",
    "plt.show()\n"
   ]
  },
  {
   "cell_type": "raw",
   "id": "717c4283-eec3-41d5-aa0b-36e73eb0d60f",
   "metadata": {},
   "source": [
    "print (df)"
   ]
  }
 ],
 "metadata": {
  "kernelspec": {
   "display_name": "Python 3 (ipykernel)",
   "language": "python",
   "name": "python3"
  },
  "language_info": {
   "codemirror_mode": {
    "name": "ipython",
    "version": 3
   },
   "file_extension": ".py",
   "mimetype": "text/x-python",
   "name": "python",
   "nbconvert_exporter": "python",
   "pygments_lexer": "ipython3",
   "version": "3.11.7"
  },
  "widgets": {
   "application/vnd.jupyter.widget-state+json": {
    "state": {},
    "version_major": 2,
    "version_minor": 0
   }
  }
 },
 "nbformat": 4,
 "nbformat_minor": 5
}
